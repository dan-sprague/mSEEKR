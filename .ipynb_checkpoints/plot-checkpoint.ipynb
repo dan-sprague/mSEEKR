{
 "cells": [
  {
   "cell_type": "code",
   "execution_count": 27,
   "metadata": {},
   "outputs": [
    {
     "data": {
      "image/png": "[encoded data removed]",
      "text/plain": [
       "<Figure size 1080x36 with 1 Axes>"
      ]
     },
     "metadata": {
      "needs_background": "light"
     },
     "output_type": "display_data"
    }
   ],
   "source": [
    "import numpy as np\n",
    "import seaborn as sns\n",
    "import matplotlib.pyplot as plt\n",
    "import pandas as pd\n",
    "import os\n",
    "import matplotlib\n",
    "import glob\n",
    "from collections import defaultdict\n",
    "cmap = matplotlib.colors.ListedColormap(['white','blue'])\n",
    "\n",
    "lenX = 19275\n",
    "for mod in ['A']:\n",
    "    for w in ['200']:\n",
    "        for k in [5]:\n",
    "            fileName = f'human_noHuman{mod}_hg26Trscpt_{k}_{w}w_20sl_HSS.txt'\n",
    "            a = open(fileName)\n",
    "            data = [line.strip() for line in a]\n",
    "            #seqLen = seqLen = int(fileName.split('_')[-1][:-4])\n",
    "            hitMap = []\n",
    "            dataD = defaultdict(list)\n",
    "            transcript = np.zeros(lenX)\n",
    "            for row in data:\n",
    "                if row[0] == '$':\n",
    "                    header = row.split('\\t')[0][2:]\n",
    "                    dataD[header]\n",
    "                elif 'Tile' in row:\n",
    "                    continue\n",
    "                else:\n",
    "                    L = int(row.split('\\t')[1].split(':')[0])\n",
    "                    R = int(row.split('\\t')[1].split(':')[1])\n",
    "                    dataD[header].append([L,R])\n",
    "            for key,v in dataD.items():\n",
    "                if v:\n",
    "                    hitMap = list(set.union(*[set(range(i[0],i[1])) for i in v]))\n",
    "            transcript[hitMap]+=1\n",
    "            fig = plt.figure(figsize=(15,.5))\n",
    "            ax = plt.axes()\n",
    "            ax.imshow(transcript[np.newaxis,:],extent=[0,lenX,0,1],aspect='auto',cmap=cmap,\n",
    "                      interpolation=None,vmin=0,vmax = .05)\n",
    "            ax.axhline(y=.5,linestyle='--',color='grey',linewidth=2)\n",
    "            ax.axvline(x=0,color='grey',linewidth=5)\n",
    "            ax.axvline(x=lenX,color='grey',linewidth=5)\n",
    "            #fig.patch.set_visible(False)\n",
    "            ax.axis('off')\n",
    "            plt.savefig(f'../hgXist_{mod}_{w}_{k}.pdf')"
   ]
  },
  {
   "cell_type": "code",
   "execution_count": 21,
   "metadata": {},
   "outputs": [
    {
     "data": {
      "text/plain": [
       "[[560, 760],\n",
       " [540, 740],\n",
       " [360, 560],\n",
       " [500, 700],\n",
       " [340, 540],\n",
       " [380, 580],\n",
       " [480, 680],\n",
       " [460, 660],\n",
       " [520, 720],\n",
       " [440, 640],\n",
       " [400, 600],\n",
       " [420, 620],\n",
       " [580, 780],\n",
       " [320, 520],\n",
       " [600, 800],\n",
       " [300, 500],\n",
       " [280, 480],\n",
       " [620, 820],\n",
       " [260, 460],\n",
       " [640, 840],\n",
       " [240, 440],\n",
       " [660, 860],\n",
       " [220, 420],\n",
       " [200, 400],\n",
       " [680, 880],\n",
       " [180, 380],\n",
       " [700, 900],\n",
       " [140, 340],\n",
       " [160, 360],\n",
       " [120, 320],\n",
       " [100, 300]]"
      ]
     },
     "execution_count": 21,
     "metadata": {},
     "output_type": "execute_result"
    }
   ],
   "source": [
    "dataD['>human_xist']"
   ]
  },
  {
   "cell_type": "code",
   "execution_count": null,
   "metadata": {},
   "outputs": [],
   "source": []
  }
 ],
 "metadata": {
  "kernelspec": {
   "display_name": "Python 3",
   "language": "python",
   "name": "python3"
  },
  "language_info": {
   "codemirror_mode": {
    "name": "ipython",
    "version": 3
   },
   "file_extension": ".py",
   "mimetype": "text/x-python",
   "name": "python",
   "nbconvert_exporter": "python",
   "pygments_lexer": "ipython3",
   "version": "3.7.2"
  }
 },
 "nbformat": 4,
 "nbformat_minor": 2
}
