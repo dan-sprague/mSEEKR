{
 "cells": [
  {
   "cell_type": "code",
   "execution_count": 13,
   "metadata": {},
   "outputs": [],
   "source": [
    "import numpy as np\n",
    "import seaborn as sns\n",
    "import matplotlib.pyplot as plt\n",
    "import pandas as pd\n",
    "import os\n",
    "import matplotlib\n",
    "cmap = matplotlib.colors.ListedColormap(['grey','blue','green','yellow','red'])"
   ]
  },
  {
   "cell_type": "code",
   "execution_count": 14,
   "metadata": {},
   "outputs": [],
   "source": [
    "import glob"
   ]
  },
  {
   "cell_type": "code",
   "execution_count": 15,
   "metadata": {},
   "outputs": [],
   "source": [
    "files = [f for f in glob.iglob('./*mamX*BCD*txt')]"
   ]
  },
  {
   "cell_type": "code",
   "execution_count": 16,
   "metadata": {
    "scrolled": true
   },
   "outputs": [
    {
     "name": "stdout",
     "output_type": "stream",
     "text": [
      "./mamX_pig_xist_mamBCD_lnc_2_25215.txt\n",
      "./mamX_mouse_xist_mamBCD_lnc_2_17918.txt\n",
      "./mamX_rat_xist_mamBCD_lnc_2_17608.txt\n",
      "./mamX_susscrofa_xist_mamBCD_lnc_4_25215.txt\n",
      "./mamX_bos_xist_mamBCD_lnc_3_25054.txt\n",
      "./mamX_pig_xist_mamBCD_lnc_4_25215.txt\n",
      "./mamX_susscrofa_xist_mamBCD_lnc_2_25215.txt\n",
      "./mamX_mouse_xist_mamBCD_lnc_4_17918.txt\n",
      "./mamX_rat_xist_mamBCD_lnc_4_17608.txt\n",
      "./mamX_pig_xist_mamBCD_lnc_3_25215.txt\n",
      "./mamX_bos_xist_mamBCD_lnc_4_25054.txt\n",
      "./mamX_rat_xist_mamBCD_lnc_3_17608.txt\n",
      "./mamX_mouse_xist_mamBCD_lnc_3_17918.txt\n",
      "./mamX_bos_xist_mamBCD_lnc_2_25054.txt\n",
      "./mamX_susscrofa_xist_mamBCD_lnc_3_25215.txt\n",
      "./mamX_human_xist_mamBCD_lnc_2_19275.txt\n",
      "./mamX_vole_microtus_rossiaemeridionalis_xist_mamBCD_lnc_2_16153.txt\n",
      "./mamX_rabbit_xist_mamBCD_lnc_3_15590.txt\n",
      "./mamX_canis_xist_mamBCD_lnc_3_19931.txt\n",
      "./mamX_vole_microtus_rossiaemeridionalis_xist_mamBCD_lnc_4_16153.txt\n",
      "./mamX_marmoset_xist_mamBCD_lnc_3_21453.txt\n",
      "./mamX_human_xist_mamBCD_lnc_4_19275.txt\n"
     ]
    },
    {
     "name": "stderr",
     "output_type": "stream",
     "text": [
      "/Users/danielsprague/anaconda3/lib/python3.7/site-packages/matplotlib/pyplot.py:514: RuntimeWarning: More than 20 figures have been opened. Figures created through the pyplot interface (`matplotlib.pyplot.figure`) are retained until explicitly closed and may consume too much memory. (To control this warning, see the rcParam `figure.max_open_warning`).\n",
      "  max_open_warning, RuntimeWarning)\n"
     ]
    },
    {
     "name": "stdout",
     "output_type": "stream",
     "text": [
      "./mamX_human_xist_mamBCD_lnc_3_19275.txt\n",
      "./mamX_vole_microtus_rossiaemeridionalis_xist_mamBCD_lnc_3_16153.txt\n",
      "./mamX_marmoset_xist_mamBCD_lnc_4_21453.txt\n",
      "./mamX_rabbit_xist_mamBCD_lnc_2_15590.txt\n",
      "./mamX_canis_xist_mamBCD_lnc_2_19931.txt\n",
      "./mamX_marmoset_xist_mamBCD_lnc_2_21453.txt\n",
      "./mamX_canis_xist_mamBCD_lnc_4_19931.txt\n",
      "./mamX_rabbit_xist_mamBCD_lnc_4_15590.txt\n"
     ]
    },
    {
     "data": {
      "text/plain": [
       "<Figure size 1440x72 with 0 Axes>"
      ]
     },
     "metadata": {},
     "output_type": "display_data"
    },
    {
     "data": {
      "text/plain": [
       "<Figure size 1440x72 with 0 Axes>"
      ]
     },
     "metadata": {},
     "output_type": "display_data"
    },
    {
     "data": {
      "text/plain": [
       "<Figure size 1440x72 with 0 Axes>"
      ]
     },
     "metadata": {},
     "output_type": "display_data"
    },
    {
     "data": {
      "text/plain": [
       "<Figure size 1440x72 with 0 Axes>"
      ]
     },
     "metadata": {},
     "output_type": "display_data"
    },
    {
     "data": {
      "text/plain": [
       "<Figure size 1440x72 with 0 Axes>"
      ]
     },
     "metadata": {},
     "output_type": "display_data"
    },
    {
     "data": {
      "text/plain": [
       "<Figure size 1440x72 with 0 Axes>"
      ]
     },
     "metadata": {},
     "output_type": "display_data"
    },
    {
     "data": {
      "text/plain": [
       "<Figure size 1440x72 with 0 Axes>"
      ]
     },
     "metadata": {},
     "output_type": "display_data"
    },
    {
     "data": {
      "text/plain": [
       "<Figure size 1440x72 with 0 Axes>"
      ]
     },
     "metadata": {},
     "output_type": "display_data"
    },
    {
     "data": {
      "text/plain": [
       "<Figure size 1440x72 with 0 Axes>"
      ]
     },
     "metadata": {},
     "output_type": "display_data"
    },
    {
     "data": {
      "text/plain": [
       "<Figure size 1440x72 with 0 Axes>"
      ]
     },
     "metadata": {},
     "output_type": "display_data"
    },
    {
     "data": {
      "text/plain": [
       "<Figure size 1440x72 with 0 Axes>"
      ]
     },
     "metadata": {},
     "output_type": "display_data"
    },
    {
     "data": {
      "text/plain": [
       "<Figure size 1440x72 with 0 Axes>"
      ]
     },
     "metadata": {},
     "output_type": "display_data"
    },
    {
     "data": {
      "text/plain": [
       "<Figure size 1440x72 with 0 Axes>"
      ]
     },
     "metadata": {},
     "output_type": "display_data"
    },
    {
     "data": {
      "text/plain": [
       "<Figure size 1440x72 with 0 Axes>"
      ]
     },
     "metadata": {},
     "output_type": "display_data"
    },
    {
     "data": {
      "text/plain": [
       "<Figure size 1440x72 with 0 Axes>"
      ]
     },
     "metadata": {},
     "output_type": "display_data"
    },
    {
     "data": {
      "text/plain": [
       "<Figure size 1440x72 with 0 Axes>"
      ]
     },
     "metadata": {},
     "output_type": "display_data"
    },
    {
     "data": {
      "text/plain": [
       "<Figure size 1440x72 with 0 Axes>"
      ]
     },
     "metadata": {},
     "output_type": "display_data"
    },
    {
     "data": {
      "text/plain": [
       "<Figure size 1440x72 with 0 Axes>"
      ]
     },
     "metadata": {},
     "output_type": "display_data"
    },
    {
     "data": {
      "text/plain": [
       "<Figure size 1440x72 with 0 Axes>"
      ]
     },
     "metadata": {},
     "output_type": "display_data"
    },
    {
     "data": {
      "text/plain": [
       "<Figure size 1440x72 with 0 Axes>"
      ]
     },
     "metadata": {},
     "output_type": "display_data"
    },
    {
     "data": {
      "text/plain": [
       "<Figure size 1440x72 with 0 Axes>"
      ]
     },
     "metadata": {},
     "output_type": "display_data"
    },
    {
     "data": {
      "text/plain": [
       "<Figure size 1440x72 with 0 Axes>"
      ]
     },
     "metadata": {},
     "output_type": "display_data"
    },
    {
     "data": {
      "text/plain": [
       "<Figure size 1440x72 with 0 Axes>"
      ]
     },
     "metadata": {},
     "output_type": "display_data"
    },
    {
     "data": {
      "text/plain": [
       "<Figure size 1440x72 with 0 Axes>"
      ]
     },
     "metadata": {},
     "output_type": "display_data"
    },
    {
     "data": {
      "text/plain": [
       "<Figure size 1440x72 with 0 Axes>"
      ]
     },
     "metadata": {},
     "output_type": "display_data"
    },
    {
     "data": {
      "text/plain": [
       "<Figure size 1440x72 with 0 Axes>"
      ]
     },
     "metadata": {},
     "output_type": "display_data"
    },
    {
     "data": {
      "text/plain": [
       "<Figure size 1440x72 with 0 Axes>"
      ]
     },
     "metadata": {},
     "output_type": "display_data"
    },
    {
     "data": {
      "text/plain": [
       "<Figure size 1440x72 with 0 Axes>"
      ]
     },
     "metadata": {},
     "output_type": "display_data"
    },
    {
     "data": {
      "text/plain": [
       "<Figure size 1440x72 with 0 Axes>"
      ]
     },
     "metadata": {},
     "output_type": "display_data"
    },
    {
     "data": {
      "text/plain": [
       "<Figure size 1440x72 with 0 Axes>"
      ]
     },
     "metadata": {},
     "output_type": "display_data"
    }
   ],
   "source": [
    "for file in files:\n",
    "    print(file)\n",
    "    seqLen = int(file.split('_')[-1][:-4])\n",
    "    df = pd.read_csv(file,sep='\\t')\n",
    "    hitMap = np.zeros(seqLen)\n",
    "    for i,row in df.iterrows():\n",
    "        hit = row['bp']\n",
    "        l,r = int(hit.split(':')[0]),int(hit.split(':')[1])\n",
    "        S = row['Score']/(r-l)\n",
    "        hitMap[l:r] = S\n",
    "    plt.figure(figsize=(20,1))\n",
    "    plt.imshow(hitMap[np.newaxis,:],extent=[0,len(hitMap),0,1],aspect='auto',cmap=cmap)\n",
    "    plt.yticks([])\n",
    "    plt.savefig(f'{os.path.basename(file)}.pdf',bbox_inches='tight')\n",
    "    plt.clf()"
   ]
  },
  {
   "cell_type": "code",
   "execution_count": null,
   "metadata": {},
   "outputs": [],
   "source": []
  }
 ],
 "metadata": {
  "kernelspec": {
   "display_name": "Python 3",
   "language": "python",
   "name": "python3"
  },
  "language_info": {
   "codemirror_mode": {
    "name": "ipython",
    "version": 3
   },
   "file_extension": ".py",
   "mimetype": "text/x-python",
   "name": "python",
   "nbconvert_exporter": "python",
   "pygments_lexer": "ipython3",
   "version": "3.7.2"
  }
 },
 "nbformat": 4,
 "nbformat_minor": 2
}
