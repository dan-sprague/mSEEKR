{
 "cells": [
  {
   "cell_type": "code",
   "execution_count": null,
   "metadata": {},
   "outputs": [],
   "source": [
    "# import numpy as np\n",
    "# import seaborn as sns\n",
    "# import matplotlib.pyplot as plt\n",
    "# import pandas as pd\n",
    "# import os\n",
    "# import matplotlib\n",
    "# import glob\n",
    "# cmap = matplotlib.colors.ListedColormap(['blue'])\n",
    "# cmap.set_bad('white')\n",
    "# for mod in ['A','B','D','E']:\n",
    "#     for a in ['99','999','9999']:\n",
    "#         for b in ['99','999','9999']:\n",
    "#             for k in [2,3,4,5,6]:\n",
    "#                 file = [f'./results/hgKcn_{a}_{b}_{mod}_hgT_{k}.txt'][0]\n",
    "#                 seqLen = 19276\n",
    "#                 df = pd.read_csv(file,sep='\\t')\n",
    "#                 hitMap = np.zeros(seqLen)\n",
    "#                 for i,row in df.iterrows():\n",
    "#                     l,r = int(row['Start']),int(row['End'])\n",
    "#                     hitMap[l:r] = 1\n",
    "#                 hitMap = np.ma.masked_where(hitMap == 0 , hitMap)\n",
    "#                 fig = plt.figure(figsize=(15,.25))\n",
    "#                 ax = plt.axes()\n",
    "#                 f=ax.imshow(hitMap[np.newaxis,:],extent=[0,len(hitMap),0,1],aspect='auto',cmap=cmap,\n",
    "#                           interpolation=None)\n",
    "#                 ax.axhline(y=.5,linestyle='--',color='grey',linewidth=2)\n",
    "#                 ax.axvline(x=0,color='grey',linewidth=5)\n",
    "#                 ax.axvline(x=len(hitMap),color='grey',linewidth=5)\n",
    "#                 #fig.patch.set_visible(False)\n",
    "#                 ax.axis('off')\n",
    "#                 plt.savefig(f'./hgXist_{mod}_{a}_{b}_{k}.pdf',bbox_inches='tight')\n",
    "#                 plt.clf()"
   ]
  },
  {
   "cell_type": "code",
   "execution_count": 6,
   "metadata": {},
   "outputs": [
    {
     "data": {
      "text/plain": [
       "<Figure size 720x144 with 0 Axes>"
      ]
     },
     "metadata": {},
     "output_type": "display_data"
    },
    {
     "data": {
      "text/plain": [
       "<Figure size 720x144 with 0 Axes>"
      ]
     },
     "metadata": {},
     "output_type": "display_data"
    },
    {
     "data": {
      "text/plain": [
       "<Figure size 720x144 with 0 Axes>"
      ]
     },
     "metadata": {},
     "output_type": "display_data"
    },
    {
     "data": {
      "text/plain": [
       "<Figure size 720x144 with 0 Axes>"
      ]
     },
     "metadata": {},
     "output_type": "display_data"
    }
   ],
   "source": [
    "import numpy as np\n",
    "import seaborn as sns\n",
    "import matplotlib.pyplot as plt\n",
    "import pandas as pd\n",
    "import os\n",
    "import matplotlib\n",
    "import glob\n",
    "cmap = matplotlib.colors.ListedColormap(['blue'])\n",
    "cmap.set_bad('white')\n",
    "\n",
    "rows = ['99_99','99_999','99_9999',\n",
    "       '999_99','999_999','999_9999',\n",
    "       '9999_99','9999_999','9999_9999']\n",
    "\n",
    "cols = ['2','3','4','5','6']\n",
    "for mod in ['A','B','D','E']:\n",
    "    fig, ax = plt.subplots(nrows=9,ncols=5,figsize=(10,2))\n",
    "    rowIdx = 0\n",
    "    for row in ax:\n",
    "        j = 0 \n",
    "        for col in row:\n",
    "            a = rows[rowIdx]\n",
    "            k = cols[j]\n",
    "            file = [f'./results/hgKcn_{a}_{mod}_hgT_{k}.txt'][0]\n",
    "            seqLen = 93500\n",
    "            df = pd.read_csv(file,sep='\\t')\n",
    "            hitMap = np.zeros(seqLen)\n",
    "            for i,row in df.iterrows():\n",
    "                l,r = int(row['Start']),int(row['End'])\n",
    "                hitMap[l:r] = 1\n",
    "            hitMap = np.ma.masked_where(hitMap == 0 , hitMap)\n",
    "            col.imshow(hitMap[np.newaxis,:],extent=[0,len(hitMap),0,1],aspect='auto',cmap=cmap)\n",
    "            col.axhline(y=.5,linestyle='--',color='grey',linewidth=2)\n",
    "            #fig.patch.set_visible(False)\n",
    "            col.axis('off')\n",
    "            j+=1\n",
    "        rowIdx+=1\n",
    "    plt.savefig(f'/Users/dan/Dropbox/2019-mSEEKR/hgKcn_HMM/hgKcn_{mod}.pdf',bbox_inches='tight')\n",
    "    plt.clf()"
   ]
  },
  {
   "cell_type": "code",
   "execution_count": null,
   "metadata": {},
   "outputs": [],
   "source": []
  }
 ],
 "metadata": {
  "kernelspec": {
   "display_name": "Python 3",
   "language": "python",
   "name": "python3"
  },
  "language_info": {
   "codemirror_mode": {
    "name": "ipython",
    "version": 3
   },
   "file_extension": ".py",
   "mimetype": "text/x-python",
   "name": "python",
   "nbconvert_exporter": "python",
   "pygments_lexer": "ipython3",
   "version": "3.7.3"
  }
 },
 "nbformat": 4,
 "nbformat_minor": 2
}
