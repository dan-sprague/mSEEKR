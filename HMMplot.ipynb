{
 "cells": [
  {
   "cell_type": "code",
   "execution_count": 45,
   "metadata": {
    "scrolled": true
   },
   "outputs": [
    {
     "data": {
      "text/plain": [
       "<Figure size 720x72 with 0 Axes>"
      ]
     },
     "metadata": {},
     "output_type": "display_data"
    }
   ],
   "source": [
    "import numpy as np\n",
    "import seaborn as sns\n",
    "import matplotlib.pyplot as plt\n",
    "import pandas as pd\n",
    "import os\n",
    "import matplotlib\n",
    "import glob\n",
    "cmap = matplotlib.colors.ListedColormap(['blue'])\n",
    "cmap.set_bad('white')\n",
    "\n",
    "a = '9999'\n",
    "b = '9999'\n",
    "k = 4\n",
    "mod = 'B'\n",
    "file = f'./mX_mm{mod}_mmU_{k}.txt'\n",
    "seqLen = 91514\n",
    "df = pd.read_csv(file,sep='\\t')\n",
    "hitMap = np.zeros(seqLen)\n",
    "for i,row in df.iterrows():\n",
    "    l,r = int(row['Start']),int(row['End'])\n",
    "    hitMap[l:r] = 1\n",
    "    \n",
    "# newMap = np.unique(np.ceil((np.nonzero(hitMap>0)[0]/seqLen)*1000))\n",
    "# newMap = [int(i) for i in newMap]\n",
    "# hitMap = np.zeros(1000)\n",
    "# hitMap[newMap] =1 \n",
    "hitMap = np.ma.masked_where(hitMap == 0 , hitMap)\n",
    "fig = plt.figure(figsize=(10,1))\n",
    "ax = plt.axes()\n",
    "f=ax.imshow(hitMap[np.newaxis,:],extent=[0,len(hitMap),0,1],aspect='auto',cmap=cmap,\n",
    "          interpolation=None)\n",
    "ax.axhline(y=.5,linestyle='--',color='grey',linewidth=2)\n",
    "#fig.patch.set_visible(False)\n",
    "ax.axis('off')\n",
    "plt.savefig(f'./mKcn_{a}_{b}_{mod}_hgT_{k}.pdf',bbox_inches='tight')\n",
    "plt.clf()"
   ]
  },
  {
   "cell_type": "code",
   "execution_count": 1,
   "metadata": {},
   "outputs": [],
   "source": [
    "a = ['5','6','7','8','9','99','999','9999']\n",
    "b= []\n",
    "for i in a:\n",
    "    for j in a:\n",
    "        b.append(i+'_'+j)"
   ]
  },
  {
   "cell_type": "code",
   "execution_count": 6,
   "metadata": {},
   "outputs": [
    {
     "data": {
      "text/plain": [
       "<Figure size 720x1440 with 0 Axes>"
      ]
     },
     "metadata": {},
     "output_type": "display_data"
    },
    {
     "data": {
      "text/plain": [
       "<Figure size 720x1440 with 0 Axes>"
      ]
     },
     "metadata": {},
     "output_type": "display_data"
    },
    {
     "data": {
      "text/plain": [
       "<Figure size 720x1440 with 0 Axes>"
      ]
     },
     "metadata": {},
     "output_type": "display_data"
    },
    {
     "data": {
      "text/plain": [
       "<Figure size 720x1440 with 0 Axes>"
      ]
     },
     "metadata": {},
     "output_type": "display_data"
    }
   ],
   "source": [
    "import numpy as np\n",
    "import seaborn as sns\n",
    "import matplotlib.pyplot as plt\n",
    "import pandas as pd\n",
    "import os\n",
    "import matplotlib\n",
    "import glob\n",
    "cmap = matplotlib.colors.ListedColormap(['blue'])\n",
    "cmap.set_bad('white')\n",
    "\n",
    "rows = b\n",
    "\n",
    "cols = ['2','3','4','5','6']\n",
    "for mod in ['A','B','D','E']:\n",
    "    fig, ax = plt.subplots(nrows=len(b),ncols=5,figsize=(10,20))\n",
    "    rowIdx = 0\n",
    "    for row in ax:\n",
    "        j = 0 \n",
    "        for col in row:\n",
    "            a = rows[rowIdx]\n",
    "            k = cols[j]\n",
    "            file = [f'./xist/hgX_{a}_{mod}_hgT_{k}.txt'][0]\n",
    "            seqLen = 19276\n",
    "            try:\n",
    "                df = pd.read_csv(file,sep='\\t')\n",
    "            except:\n",
    "                col.axis('off')\n",
    "                continue\n",
    "                \n",
    "            hitMap = np.zeros(seqLen)\n",
    "            for i,row in df.iterrows():\n",
    "                l,r = int(row['Start']),int(row['End'])\n",
    "                hitMap[l:r] = 1\n",
    "            hitMap = np.ma.masked_where(hitMap == 0 , hitMap)\n",
    "            col.imshow(hitMap[np.newaxis,:],extent=[0,len(hitMap),0,1],aspect='auto',cmap=cmap,\n",
    "                      interpolation=None)\n",
    "            col.axhline(y=.5,linestyle='--',color='grey',linewidth=2)\n",
    "            #fig.patch.set_visible(False)\n",
    "            col.axis('off')\n",
    "            j+=1\n",
    "        rowIdx+=1\n",
    "    plt.savefig(f'./hgXist_{mod}.pdf',bbox_inches='tight')\n",
    "    plt.clf()"
   ]
  },
  {
   "cell_type": "code",
   "execution_count": null,
   "metadata": {},
   "outputs": [],
   "source": []
  }
 ],
 "metadata": {
  "kernelspec": {
   "display_name": "Python 3",
   "language": "python",
   "name": "python3"
  },
  "language_info": {
   "codemirror_mode": {
    "name": "ipython",
    "version": 3
   },
   "file_extension": ".py",
   "mimetype": "text/x-python",
   "name": "python",
   "nbconvert_exporter": "python",
   "pygments_lexer": "ipython3",
   "version": "3.7.4"
  }
 },
 "nbformat": 4,
 "nbformat_minor": 2
}
