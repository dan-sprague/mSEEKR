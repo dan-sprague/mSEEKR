{
 "cells": [
  {
   "cell_type": "code",
   "execution_count": 14,
   "metadata": {},
   "outputs": [],
   "source": [
    "import numpy as np\n",
    "import seaborn as sns\n",
    "import matplotlib.pyplot as plt\n",
    "import pandas as pd\n",
    "import os\n",
    "import matplotlib\n",
    "cmap = matplotlib.colors.ListedColormap(['blue','green','yellow','red'])\n",
    "cmap.set_bad('white')"
   ]
  },
  {
   "cell_type": "code",
   "execution_count": 15,
   "metadata": {},
   "outputs": [],
   "source": [
    "import glob"
   ]
  },
  {
   "cell_type": "code",
   "execution_count": 16,
   "metadata": {},
   "outputs": [],
   "source": [
    "files = [f for f in glob.iglob('/Users/danielsprague/Desktop/*/*kcn*')]"
   ]
  },
  {
   "cell_type": "code",
   "execution_count": 17,
   "metadata": {
    "scrolled": true
   },
   "outputs": [
    {
     "name": "stdout",
     "output_type": "stream",
     "text": [
      "/Users/danielsprague/Desktop/999_9999/999_9999_kcn_hgKcnq1ot1_humanBCD_hg26Trscpt_5_91667.txt\n",
      "/Users/danielsprague/Desktop/999_9999/999_9999_kcn_hgKcnq1ot1_humanAE_hg26Trscpt_4_91667.txt\n",
      "/Users/danielsprague/Desktop/999_9999/999_9999_kcn_hgKcnq1ot1_humanBCD_hg26Trscpt_3_91667.txt\n",
      "/Users/danielsprague/Desktop/999_9999/999_9999_kcn_hgKcnq1ot1_humanAE_hg26Trscpt_2_91667.txt\n",
      "/Users/danielsprague/Desktop/999_9999/999_9999_kcn_hgKcnq1ot1_humanBCD_hg26Trscpt_4_91667.txt\n",
      "/Users/danielsprague/Desktop/999_9999/999_9999_kcn_hgKcnq1ot1_humanAE_hg26Trscpt_5_91667.txt\n",
      "/Users/danielsprague/Desktop/999_9999/999_9999_kcn_hgKcnq1ot1_humanBCD_hg26Trscpt_2_91667.txt\n",
      "/Users/danielsprague/Desktop/999_9999/999_9999_kcn_hgKcnq1ot1_humanAE_hg26Trscpt_3_91667.txt\n",
      "/Users/danielsprague/Desktop/999_9999/999_9999_kcn_hgKcnq1ot1_humanAE_hg26Trscpt_6_91667.txt\n",
      "/Users/danielsprague/Desktop/999_9999/999_9999_kcn_hgKcnq1ot1_humanBCD_hg26Trscpt_6_91667.txt\n",
      "/Users/danielsprague/Desktop/999_999/999_999_kcn_hgKcnq1ot1_humanBCD_hg26Trscpt_3_91667.txt\n",
      "/Users/danielsprague/Desktop/999_999/999_999_kcn_hgKcnq1ot1_humanBCD_hg26Trscpt_5_91667.txt\n",
      "/Users/danielsprague/Desktop/999_999/999_999_kcn_hgKcnq1ot1_humanBCD_hg26Trscpt_2_91667.txt\n",
      "/Users/danielsprague/Desktop/999_999/999_999_kcn_hgKcnq1ot1_humanAE_hg26Trscpt_6_91667.txt\n",
      "/Users/danielsprague/Desktop/999_999/999_999_kcn_hgKcnq1ot1_humanBCD_hg26Trscpt_4_91667.txt\n",
      "/Users/danielsprague/Desktop/999_999/999_999_kcn_hgKcnq1ot1_humanAE_hg26Trscpt_3_91667.txt\n",
      "/Users/danielsprague/Desktop/999_999/999_999_kcn_hgKcnq1ot1_humanAE_hg26Trscpt_5_91667.txt\n",
      "/Users/danielsprague/Desktop/999_999/999_999_kcn_hgKcnq1ot1_humanAE_hg26Trscpt_2_91667.txt\n",
      "/Users/danielsprague/Desktop/999_999/999_999_kcn_hgKcnq1ot1_humanBCD_hg26Trscpt_6_91667.txt\n",
      "/Users/danielsprague/Desktop/999_999/999_999_kcn_hgKcnq1ot1_humanAE_hg26Trscpt_4_91667.txt\n",
      "/Users/danielsprague/Desktop/99_99/99_99_kcn_hgKcnq1ot1_humanBCD_hg26Trscpt_3_91667.txt\n",
      "/Users/danielsprague/Desktop/99_99/99_99_kcn_hgKcnq1ot1_humanAE_hg26Trscpt_2_91667.txt\n",
      "/Users/danielsprague/Desktop/99_99/99_99_kcn_hgKcnq1ot1_humanBCD_hg26Trscpt_5_91667.txt\n",
      "/Users/danielsprague/Desktop/99_99/99_99_kcn_hgKcnq1ot1_humanAE_hg26Trscpt_4_91667.txt\n",
      "/Users/danielsprague/Desktop/99_99/99_99_kcn_hgKcnq1ot1_humanAE_hg26Trscpt_3_91667.txt\n",
      "/Users/danielsprague/Desktop/99_99/99_99_kcn_hgKcnq1ot1_humanBCD_hg26Trscpt_2_91667.txt\n",
      "/Users/danielsprague/Desktop/99_99/99_99_kcn_hgKcnq1ot1_humanAE_hg26Trscpt_5_91667.txt\n",
      "/Users/danielsprague/Desktop/99_99/99_99_kcn_hgKcnq1ot1_humanBCD_hg26Trscpt_4_91667.txt\n",
      "/Users/danielsprague/Desktop/99_99/99_99_kcn_hgKcnq1ot1_humanAE_hg26Trscpt_6_91667.txt\n",
      "/Users/danielsprague/Desktop/99_99/99_99_kcn_hgKcnq1ot1_humanBCD_hg26Trscpt_6_91667.txt\n",
      "/Users/danielsprague/Desktop/999_99/999_99_kcn_hgKcnq1ot1_humanBCD_hg26Trscpt_6_91667.txt\n",
      "/Users/danielsprague/Desktop/999_99/999_99_kcn_hgKcnq1ot1_humanAE_hg26Trscpt_6_91667.txt\n",
      "/Users/danielsprague/Desktop/999_99/999_99_kcn_hgKcnq1ot1_humanAE_hg26Trscpt_3_91667.txt\n",
      "/Users/danielsprague/Desktop/999_99/999_99_kcn_hgKcnq1ot1_humanBCD_hg26Trscpt_4_91667.txt\n",
      "/Users/danielsprague/Desktop/999_99/999_99_kcn_hgKcnq1ot1_humanAE_hg26Trscpt_5_91667.txt\n",
      "/Users/danielsprague/Desktop/999_99/999_99_kcn_hgKcnq1ot1_humanBCD_hg26Trscpt_2_91667.txt\n",
      "/Users/danielsprague/Desktop/999_99/999_99_kcn_hgKcnq1ot1_humanAE_hg26Trscpt_2_91667.txt\n",
      "/Users/danielsprague/Desktop/999_99/999_99_kcn_hgKcnq1ot1_humanBCD_hg26Trscpt_5_91667.txt\n",
      "/Users/danielsprague/Desktop/999_99/999_99_kcn_hgKcnq1ot1_humanAE_hg26Trscpt_4_91667.txt\n",
      "/Users/danielsprague/Desktop/999_99/999_99_kcn_hgKcnq1ot1_humanBCD_hg26Trscpt_3_91667.txt\n",
      "/Users/danielsprague/Desktop/99_9999/99_9999_kcn_hgKcnq1ot1_humanAE_hg26Trscpt_5_91667.txt\n",
      "/Users/danielsprague/Desktop/99_9999/99_9999_kcn_hgKcnq1ot1_humanAE_hg26Trscpt_3_91667.txt\n",
      "/Users/danielsprague/Desktop/99_9999/99_9999_kcn_hgKcnq1ot1_humanAE_hg26Trscpt_4_91667.txt\n",
      "/Users/danielsprague/Desktop/99_9999/99_9999_kcn_hgKcnq1ot1_humanBCD_hg26Trscpt_6_91667.txt\n",
      "/Users/danielsprague/Desktop/99_9999/99_9999_kcn_hgKcnq1ot1_humanAE_hg26Trscpt_2_91667.txt\n",
      "/Users/danielsprague/Desktop/99_9999/99_9999_kcn_hgKcnq1ot1_humanBCD_hg26Trscpt_5_91667.txt\n",
      "/Users/danielsprague/Desktop/99_9999/99_9999_kcn_hgKcnq1ot1_humanBCD_hg26Trscpt_3_91667.txt\n",
      "/Users/danielsprague/Desktop/99_9999/99_9999_kcn_hgKcnq1ot1_humanBCD_hg26Trscpt_4_91667.txt\n",
      "/Users/danielsprague/Desktop/99_9999/99_9999_kcn_hgKcnq1ot1_humanAE_hg26Trscpt_6_91667.txt\n",
      "/Users/danielsprague/Desktop/99_9999/99_9999_kcn_hgKcnq1ot1_humanBCD_hg26Trscpt_2_91667.txt\n",
      "/Users/danielsprague/Desktop/fastaFiles/mm10kcnq1ot1.fa\n"
     ]
    },
    {
     "ename": "ValueError",
     "evalue": "invalid literal for int() with base 10: '/Users/danielsprague/Desktop/fastaFiles/mm10kcnq1ot'",
     "output_type": "error",
     "traceback": [
      "\u001b[0;31m---------------------------------------------------------------------------\u001b[0m",
      "\u001b[0;31mValueError\u001b[0m                                Traceback (most recent call last)",
      "\u001b[0;32m<ipython-input-17-c693d782ba91>\u001b[0m in \u001b[0;36m<module>\u001b[0;34m\u001b[0m\n\u001b[1;32m      1\u001b[0m \u001b[0;32mfor\u001b[0m \u001b[0mfile\u001b[0m \u001b[0;32min\u001b[0m \u001b[0mfiles\u001b[0m\u001b[0;34m:\u001b[0m\u001b[0;34m\u001b[0m\u001b[0;34m\u001b[0m\u001b[0m\n\u001b[1;32m      2\u001b[0m     \u001b[0mprint\u001b[0m\u001b[0;34m(\u001b[0m\u001b[0mfile\u001b[0m\u001b[0;34m)\u001b[0m\u001b[0;34m\u001b[0m\u001b[0;34m\u001b[0m\u001b[0m\n\u001b[0;32m----> 3\u001b[0;31m     \u001b[0mseqLen\u001b[0m \u001b[0;34m=\u001b[0m \u001b[0mint\u001b[0m\u001b[0;34m(\u001b[0m\u001b[0mfile\u001b[0m\u001b[0;34m.\u001b[0m\u001b[0msplit\u001b[0m\u001b[0;34m(\u001b[0m\u001b[0;34m'_'\u001b[0m\u001b[0;34m)\u001b[0m\u001b[0;34m[\u001b[0m\u001b[0;34m-\u001b[0m\u001b[0;36m1\u001b[0m\u001b[0;34m]\u001b[0m\u001b[0;34m[\u001b[0m\u001b[0;34m:\u001b[0m\u001b[0;34m-\u001b[0m\u001b[0;36m4\u001b[0m\u001b[0;34m]\u001b[0m\u001b[0;34m)\u001b[0m\u001b[0;34m\u001b[0m\u001b[0;34m\u001b[0m\u001b[0m\n\u001b[0m\u001b[1;32m      4\u001b[0m     \u001b[0mdf\u001b[0m \u001b[0;34m=\u001b[0m \u001b[0mpd\u001b[0m\u001b[0;34m.\u001b[0m\u001b[0mread_csv\u001b[0m\u001b[0;34m(\u001b[0m\u001b[0mfile\u001b[0m\u001b[0;34m,\u001b[0m\u001b[0msep\u001b[0m\u001b[0;34m=\u001b[0m\u001b[0;34m'\\t'\u001b[0m\u001b[0;34m)\u001b[0m\u001b[0;34m\u001b[0m\u001b[0;34m\u001b[0m\u001b[0m\n\u001b[1;32m      5\u001b[0m     \u001b[0mhitMap\u001b[0m \u001b[0;34m=\u001b[0m \u001b[0mnp\u001b[0m\u001b[0;34m.\u001b[0m\u001b[0mzeros\u001b[0m\u001b[0;34m(\u001b[0m\u001b[0mseqLen\u001b[0m\u001b[0;34m)\u001b[0m\u001b[0;34m\u001b[0m\u001b[0;34m\u001b[0m\u001b[0m\n",
      "\u001b[0;31mValueError\u001b[0m: invalid literal for int() with base 10: '/Users/danielsprague/Desktop/fastaFiles/mm10kcnq1ot'"
     ]
    },
    {
     "data": {
      "text/plain": [
       "<Figure size 1080x36 with 0 Axes>"
      ]
     },
     "metadata": {},
     "output_type": "display_data"
    },
    {
     "data": {
      "text/plain": [
       "<Figure size 1080x36 with 0 Axes>"
      ]
     },
     "metadata": {},
     "output_type": "display_data"
    },
    {
     "data": {
      "text/plain": [
       "<Figure size 1080x36 with 0 Axes>"
      ]
     },
     "metadata": {},
     "output_type": "display_data"
    },
    {
     "data": {
      "text/plain": [
       "<Figure size 1080x36 with 0 Axes>"
      ]
     },
     "metadata": {},
     "output_type": "display_data"
    },
    {
     "data": {
      "text/plain": [
       "<Figure size 1080x36 with 0 Axes>"
      ]
     },
     "metadata": {},
     "output_type": "display_data"
    },
    {
     "data": {
      "text/plain": [
       "<Figure size 1080x36 with 0 Axes>"
      ]
     },
     "metadata": {},
     "output_type": "display_data"
    },
    {
     "data": {
      "text/plain": [
       "<Figure size 1080x36 with 0 Axes>"
      ]
     },
     "metadata": {},
     "output_type": "display_data"
    },
    {
     "data": {
      "text/plain": [
       "<Figure size 1080x36 with 0 Axes>"
      ]
     },
     "metadata": {},
     "output_type": "display_data"
    },
    {
     "data": {
      "text/plain": [
       "<Figure size 1080x36 with 0 Axes>"
      ]
     },
     "metadata": {},
     "output_type": "display_data"
    },
    {
     "data": {
      "text/plain": [
       "<Figure size 1080x36 with 0 Axes>"
      ]
     },
     "metadata": {},
     "output_type": "display_data"
    },
    {
     "data": {
      "text/plain": [
       "<Figure size 1080x36 with 0 Axes>"
      ]
     },
     "metadata": {},
     "output_type": "display_data"
    },
    {
     "data": {
      "text/plain": [
       "<Figure size 1080x36 with 0 Axes>"
      ]
     },
     "metadata": {},
     "output_type": "display_data"
    },
    {
     "data": {
      "text/plain": [
       "<Figure size 1080x36 with 0 Axes>"
      ]
     },
     "metadata": {},
     "output_type": "display_data"
    },
    {
     "data": {
      "text/plain": [
       "<Figure size 1080x36 with 0 Axes>"
      ]
     },
     "metadata": {},
     "output_type": "display_data"
    },
    {
     "data": {
      "text/plain": [
       "<Figure size 1080x36 with 0 Axes>"
      ]
     },
     "metadata": {},
     "output_type": "display_data"
    },
    {
     "data": {
      "text/plain": [
       "<Figure size 1080x36 with 0 Axes>"
      ]
     },
     "metadata": {},
     "output_type": "display_data"
    },
    {
     "data": {
      "text/plain": [
       "<Figure size 1080x36 with 0 Axes>"
      ]
     },
     "metadata": {},
     "output_type": "display_data"
    },
    {
     "data": {
      "text/plain": [
       "<Figure size 1080x36 with 0 Axes>"
      ]
     },
     "metadata": {},
     "output_type": "display_data"
    },
    {
     "data": {
      "text/plain": [
       "<Figure size 1080x36 with 0 Axes>"
      ]
     },
     "metadata": {},
     "output_type": "display_data"
    },
    {
     "data": {
      "text/plain": [
       "<Figure size 1080x36 with 0 Axes>"
      ]
     },
     "metadata": {},
     "output_type": "display_data"
    },
    {
     "data": {
      "text/plain": [
       "<Figure size 1080x36 with 0 Axes>"
      ]
     },
     "metadata": {},
     "output_type": "display_data"
    },
    {
     "data": {
      "text/plain": [
       "<Figure size 1080x36 with 0 Axes>"
      ]
     },
     "metadata": {},
     "output_type": "display_data"
    },
    {
     "data": {
      "text/plain": [
       "<Figure size 1080x36 with 0 Axes>"
      ]
     },
     "metadata": {},
     "output_type": "display_data"
    },
    {
     "data": {
      "text/plain": [
       "<Figure size 1080x36 with 0 Axes>"
      ]
     },
     "metadata": {},
     "output_type": "display_data"
    },
    {
     "data": {
      "text/plain": [
       "<Figure size 1080x36 with 0 Axes>"
      ]
     },
     "metadata": {},
     "output_type": "display_data"
    },
    {
     "data": {
      "text/plain": [
       "<Figure size 1080x36 with 0 Axes>"
      ]
     },
     "metadata": {},
     "output_type": "display_data"
    },
    {
     "data": {
      "text/plain": [
       "<Figure size 1080x36 with 0 Axes>"
      ]
     },
     "metadata": {},
     "output_type": "display_data"
    },
    {
     "data": {
      "text/plain": [
       "<Figure size 1080x36 with 0 Axes>"
      ]
     },
     "metadata": {},
     "output_type": "display_data"
    },
    {
     "data": {
      "text/plain": [
       "<Figure size 1080x36 with 0 Axes>"
      ]
     },
     "metadata": {},
     "output_type": "display_data"
    },
    {
     "data": {
      "text/plain": [
       "<Figure size 1080x36 with 0 Axes>"
      ]
     },
     "metadata": {},
     "output_type": "display_data"
    },
    {
     "data": {
      "text/plain": [
       "<Figure size 1080x36 with 0 Axes>"
      ]
     },
     "metadata": {},
     "output_type": "display_data"
    },
    {
     "data": {
      "text/plain": [
       "<Figure size 1080x36 with 0 Axes>"
      ]
     },
     "metadata": {},
     "output_type": "display_data"
    },
    {
     "data": {
      "text/plain": [
       "<Figure size 1080x36 with 0 Axes>"
      ]
     },
     "metadata": {},
     "output_type": "display_data"
    },
    {
     "data": {
      "text/plain": [
       "<Figure size 1080x36 with 0 Axes>"
      ]
     },
     "metadata": {},
     "output_type": "display_data"
    },
    {
     "data": {
      "text/plain": [
       "<Figure size 1080x36 with 0 Axes>"
      ]
     },
     "metadata": {},
     "output_type": "display_data"
    },
    {
     "data": {
      "text/plain": [
       "<Figure size 1080x36 with 0 Axes>"
      ]
     },
     "metadata": {},
     "output_type": "display_data"
    },
    {
     "data": {
      "text/plain": [
       "<Figure size 1080x36 with 0 Axes>"
      ]
     },
     "metadata": {},
     "output_type": "display_data"
    },
    {
     "data": {
      "text/plain": [
       "<Figure size 1080x36 with 0 Axes>"
      ]
     },
     "metadata": {},
     "output_type": "display_data"
    },
    {
     "data": {
      "text/plain": [
       "<Figure size 1080x36 with 0 Axes>"
      ]
     },
     "metadata": {},
     "output_type": "display_data"
    },
    {
     "data": {
      "text/plain": [
       "<Figure size 1080x36 with 0 Axes>"
      ]
     },
     "metadata": {},
     "output_type": "display_data"
    },
    {
     "data": {
      "text/plain": [
       "<Figure size 1080x36 with 0 Axes>"
      ]
     },
     "metadata": {},
     "output_type": "display_data"
    },
    {
     "data": {
      "text/plain": [
       "<Figure size 1080x36 with 0 Axes>"
      ]
     },
     "metadata": {},
     "output_type": "display_data"
    },
    {
     "data": {
      "text/plain": [
       "<Figure size 1080x36 with 0 Axes>"
      ]
     },
     "metadata": {},
     "output_type": "display_data"
    },
    {
     "data": {
      "text/plain": [
       "<Figure size 1080x36 with 0 Axes>"
      ]
     },
     "metadata": {},
     "output_type": "display_data"
    },
    {
     "data": {
      "text/plain": [
       "<Figure size 1080x36 with 0 Axes>"
      ]
     },
     "metadata": {},
     "output_type": "display_data"
    },
    {
     "data": {
      "text/plain": [
       "<Figure size 1080x36 with 0 Axes>"
      ]
     },
     "metadata": {},
     "output_type": "display_data"
    },
    {
     "data": {
      "text/plain": [
       "<Figure size 1080x36 with 0 Axes>"
      ]
     },
     "metadata": {},
     "output_type": "display_data"
    },
    {
     "data": {
      "text/plain": [
       "<Figure size 1080x36 with 0 Axes>"
      ]
     },
     "metadata": {},
     "output_type": "display_data"
    },
    {
     "data": {
      "text/plain": [
       "<Figure size 1080x36 with 0 Axes>"
      ]
     },
     "metadata": {},
     "output_type": "display_data"
    },
    {
     "data": {
      "text/plain": [
       "<Figure size 1080x36 with 0 Axes>"
      ]
     },
     "metadata": {},
     "output_type": "display_data"
    }
   ],
   "source": [
    "for file in files:\n",
    "    print(file)\n",
    "    seqLen = int(file.split('_')[-1][:-4])\n",
    "    df = pd.read_csv(file,sep='\\t')\n",
    "    hitMap = np.zeros(seqLen)\n",
    "    for i,row in df.iterrows():\n",
    "        hit = row['bp']\n",
    "        l,r = int(hit.split(':')[0]),int(hit.split(':')[1])\n",
    "        S = row['Score']\n",
    "        hitMap[l:r] = S/(r-l)\n",
    "    hitMap = np.ma.masked_where(hitMap == 0 , hitMap)\n",
    "    fig = plt.figure(figsize=(15,.5))\n",
    "    ax = plt.axes()\n",
    "    f=ax.imshow(hitMap[np.newaxis,:],extent=[0,len(hitMap),0,1],aspect='auto',cmap=cmap,\n",
    "              interpolation=None,vmin=0,vmax = .05)\n",
    "    ax.axhline(y=.5,linestyle='--',color='grey',linewidth=2)\n",
    "    ax.axvline(x=0,color='grey',linewidth=5)\n",
    "    ax.axvline(x=len(hitMap),color='grey',linewidth=5)\n",
    "    fig.patch.set_visible(False)\n",
    "    ax.axis('off')\n",
    "    #plt.colorbar(mappable=f)\n",
    "    plt.savefig(f'../{os.path.basename(file)}.pdf')\n",
    "    plt.clf()"
   ]
  },
  {
   "cell_type": "code",
   "execution_count": null,
   "metadata": {},
   "outputs": [],
   "source": []
  }
 ],
 "metadata": {
  "kernelspec": {
   "display_name": "Python 3",
   "language": "python",
   "name": "python3"
  },
  "language_info": {
   "codemirror_mode": {
    "name": "ipython",
    "version": 3
   },
   "file_extension": ".py",
   "mimetype": "text/x-python",
   "name": "python",
   "nbconvert_exporter": "python",
   "pygments_lexer": "ipython3",
   "version": "3.7.2"
  }
 },
 "nbformat": 4,
 "nbformat_minor": 2
}
