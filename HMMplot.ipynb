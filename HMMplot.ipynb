{
 "cells": [
  {
   "cell_type": "code",
   "execution_count": 49,
   "metadata": {},
   "outputs": [],
   "source": [
    "import numpy as np\n",
    "import seaborn as sns\n",
    "import matplotlib.pyplot as plt\n",
    "import pandas as pd\n",
    "import os\n",
    "import matplotlib\n",
    "cmap = matplotlib.colors.ListedColormap(['blue','green','yellow','red'])\n",
    "cmap.set_bad('white')"
   ]
  },
  {
   "cell_type": "code",
   "execution_count": 50,
   "metadata": {},
   "outputs": [],
   "source": [
    "import glob"
   ]
  },
  {
   "cell_type": "code",
   "execution_count": 51,
   "metadata": {},
   "outputs": [],
   "source": [
    "files = [f for f in glob.iglob('./*kcn*txt')]"
   ]
  },
  {
   "cell_type": "code",
   "execution_count": 52,
   "metadata": {
    "scrolled": true
   },
   "outputs": [
    {
     "name": "stdout",
     "output_type": "stream",
     "text": [
      "./kcn_mm10kcnq1ot1_mamBCD_lnc_6_85437.txt\n",
      "./kcn+-999_mm10kcnq1ot1_mamBCD_lnc_6_85437.txt\n",
      "./kcn_mm10kcnq1ot1_mamBCD_lnc_2_85437.txt\n",
      "./kcn+-999_mm10kcnq1ot1_mamBCD_lnc_3_85437.txt\n",
      "./kcn+-999_mm10kcnq1ot1_mamBCD_lnc_5_85437.txt\n",
      "./kcn_mm10kcnq1ot1_mamBCD_lnc_4_85437.txt\n",
      "./kcn_mm10kcnq1ot1_mamBCD_lnc_3_85437.txt\n",
      "./kcn+-999_mm10kcnq1ot1_mamBCD_lnc_2_85437.txt\n",
      "./kcn+-999_mm10kcnq1ot1_mamBCD_lnc_4_85437.txt\n",
      "./kcn_mm10kcnq1ot1_mamBCD_lnc_5_85437.txt\n"
     ]
    },
    {
     "data": {
      "text/plain": [
       "<Figure size 1080x36 with 0 Axes>"
      ]
     },
     "metadata": {},
     "output_type": "display_data"
    },
    {
     "data": {
      "text/plain": [
       "<Figure size 1080x36 with 0 Axes>"
      ]
     },
     "metadata": {},
     "output_type": "display_data"
    },
    {
     "data": {
      "text/plain": [
       "<Figure size 1080x36 with 0 Axes>"
      ]
     },
     "metadata": {},
     "output_type": "display_data"
    },
    {
     "data": {
      "text/plain": [
       "<Figure size 1080x36 with 0 Axes>"
      ]
     },
     "metadata": {},
     "output_type": "display_data"
    },
    {
     "data": {
      "text/plain": [
       "<Figure size 1080x36 with 0 Axes>"
      ]
     },
     "metadata": {},
     "output_type": "display_data"
    },
    {
     "data": {
      "text/plain": [
       "<Figure size 1080x36 with 0 Axes>"
      ]
     },
     "metadata": {},
     "output_type": "display_data"
    },
    {
     "data": {
      "text/plain": [
       "<Figure size 1080x36 with 0 Axes>"
      ]
     },
     "metadata": {},
     "output_type": "display_data"
    },
    {
     "data": {
      "text/plain": [
       "<Figure size 1080x36 with 0 Axes>"
      ]
     },
     "metadata": {},
     "output_type": "display_data"
    },
    {
     "data": {
      "text/plain": [
       "<Figure size 1080x36 with 0 Axes>"
      ]
     },
     "metadata": {},
     "output_type": "display_data"
    },
    {
     "data": {
      "text/plain": [
       "<Figure size 1080x36 with 0 Axes>"
      ]
     },
     "metadata": {},
     "output_type": "display_data"
    }
   ],
   "source": [
    "for file in files:\n",
    "    print(file)\n",
    "    seqLen = int(file.split('_')[-1][:-4])\n",
    "    df = pd.read_csv(file,sep='\\t')\n",
    "    hitMap = np.zeros(seqLen)\n",
    "    for i,row in df.iterrows():\n",
    "        hit = row['bp']\n",
    "        l,r = int(hit.split(':')[0]),int(hit.split(':')[1])\n",
    "        S = row['Score']\n",
    "        hitMap[l:r] = S/(r-l)\n",
    "    hitMap = np.ma.masked_where(hitMap == 0 , hitMap)\n",
    "    fig = plt.figure(figsize=(15,.5))\n",
    "    ax = plt.axes()\n",
    "    f=ax.imshow(hitMap[np.newaxis,:],extent=[0,len(hitMap),0,1],aspect='auto',cmap=cmap,\n",
    "              interpolation=None,vmin=0,vmax = .05)\n",
    "    ax.axhline(y=.5,linestyle='--',color='grey',linewidth=2)\n",
    "    ax.axvline(x=0,color='grey',linewidth=5)\n",
    "    ax.axvline(x=len(hitMap),color='grey',linewidth=5)\n",
    "    fig.patch.set_visible(False)\n",
    "    ax.axis('off')\n",
    "    #plt.colorbar(mappable=f)\n",
    "    plt.savefig(f'{os.path.basename(file)}.pdf')\n",
    "    plt.clf()"
   ]
  },
  {
   "cell_type": "code",
   "execution_count": null,
   "metadata": {},
   "outputs": [],
   "source": []
  }
 ],
 "metadata": {
  "kernelspec": {
   "display_name": "Python 3",
   "language": "python",
   "name": "python3"
  },
  "language_info": {
   "codemirror_mode": {
    "name": "ipython",
    "version": 3
   },
   "file_extension": ".py",
   "mimetype": "text/x-python",
   "name": "python",
   "nbconvert_exporter": "python",
   "pygments_lexer": "ipython3",
   "version": "3.7.2"
  }
 },
 "nbformat": 4,
 "nbformat_minor": 2
}
